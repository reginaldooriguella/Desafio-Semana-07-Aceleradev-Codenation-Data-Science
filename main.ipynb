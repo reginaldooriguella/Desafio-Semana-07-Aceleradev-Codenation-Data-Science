{
  "nbformat": 4,
  "nbformat_minor": 0,
  "metadata": {
    "kernelspec": {
      "display_name": "Python 3",
      "language": "python",
      "name": "python3"
    },
    "language_info": {
      "codemirror_mode": {
        "name": "ipython",
        "version": 3
      },
      "file_extension": ".py",
      "mimetype": "text/x-python",
      "name": "python",
      "nbconvert_exporter": "python",
      "pygments_lexer": "ipython3",
      "version": "3.7.3"
    },
    "colab": {
      "name": "main.ipynb",
      "provenance": [],
      "toc_visible": true
    }
  },
  "cells": [
    {
      "cell_type": "markdown",
      "metadata": {
        "id": "ET1kYs6Ay2YJ",
        "colab_type": "text"
      },
      "source": [
        "# Desafio 6\n",
        "\n",
        "Neste desafio, vamos praticar _feature engineering_, um dos processos mais importantes e trabalhosos de ML. Utilizaremos o _data set_ [Countries of the world](https://www.kaggle.com/fernandol/countries-of-the-world), que contém dados sobre os 227 países do mundo com informações sobre tamanho da população, área, imigração e setores de produção.\n",
        "\n",
        "> Obs.: Por favor, não modifique o nome das funções de resposta."
      ]
    },
    {
      "cell_type": "markdown",
      "metadata": {
        "id": "HpMyB2S4y2YK",
        "colab_type": "text"
      },
      "source": [
        "## _Setup_ geral"
      ]
    },
    {
      "cell_type": "code",
      "metadata": {
        "id": "tM6BoRPcy2YL",
        "colab_type": "code",
        "colab": {}
      },
      "source": [
        "import pandas as pd\n",
        "import numpy as np\n",
        "import seaborn as sns\n",
        "import sklearn as sk\n",
        "from sklearn.pipeline import Pipeline\n",
        "from sklearn.impute import SimpleImputer\n",
        "from sklearn.feature_extraction.text import CountVectorizer\n",
        "from sklearn.datasets import fetch_20newsgroups\n",
        "from sklearn.feature_extraction.text import TfidfVectorizer\n",
        "from sklearn.preprocessing import (\n",
        "    OneHotEncoder, Binarizer, KBinsDiscretizer,\n",
        "    StandardScaler\n",
        ")"
      ],
      "execution_count": 0,
      "outputs": []
    },
    {
      "cell_type": "code",
      "metadata": {
        "id": "yuLtMTdpy2YS",
        "colab_type": "code",
        "colab": {}
      },
      "source": [
        "# Algumas configurações para o matplotlib.\n",
        "#%matplotlib inline\n",
        "\n",
        "from IPython.core.pylabtools import figsize\n",
        "\n",
        "\n",
        "figsize(12, 8)\n",
        "\n",
        "sns.set()"
      ],
      "execution_count": 0,
      "outputs": []
    },
    {
      "cell_type": "code",
      "metadata": {
        "scrolled": false,
        "id": "uEuPUewEy2YW",
        "colab_type": "code",
        "colab": {}
      },
      "source": [
        "countries = pd.read_csv(\"countries.csv\")"
      ],
      "execution_count": 0,
      "outputs": []
    },
    {
      "cell_type": "code",
      "metadata": {
        "id": "2ClylgAw_Lu7",
        "colab_type": "code",
        "colab": {}
      },
      "source": [
        "new_column_names = [\n",
        "    \"Country\", \"Region\", \"Population\", \"Area\", \"Pop_density\", \"Coastline_ratio\",\n",
        "    \"Net_migration\", \"Infant_mortality\", \"GDP\", \"Literacy\", \"Phones_per_1000\",\n",
        "    \"Arable\", \"Crops\", \"Other\", \"Climate\", \"Birthrate\", \"Deathrate\", \"Agriculture\",\n",
        "    \"Industry\", \"Service\"\n",
        "]\n",
        "\n",
        "countries.columns = new_column_names"
      ],
      "execution_count": 0,
      "outputs": []
    },
    {
      "cell_type": "markdown",
      "metadata": {
        "id": "4fdsYGzgy2Yg",
        "colab_type": "text"
      },
      "source": [
        "## Observações\n",
        "\n",
        "Esse _data set_ ainda precisa de alguns ajustes iniciais. Primeiro, note que as variáveis numéricas estão usando vírgula como separador decimal e estão codificadas como strings. Corrija isso antes de continuar: transforme essas variáveis em numéricas adequadamente.\n",
        "\n",
        "Além disso, as variáveis `Country` e `Region` possuem espaços a mais no começo e no final da string. Você pode utilizar o método `str.strip()` para remover esses espaços."
      ]
    },
    {
      "cell_type": "markdown",
      "metadata": {
        "id": "-KsIWLGky2Yg",
        "colab_type": "text"
      },
      "source": [
        "## Inicia sua análise a partir daqui"
      ]
    },
    {
      "cell_type": "code",
      "metadata": {
        "id": "vUhrYYPZy2Yh",
        "colab_type": "code",
        "outputId": "b66c844d-ef57-4457-f646-cb35a072d384",
        "colab": {
          "base_uri": "https://localhost:8080/",
          "height": 669
        }
      },
      "source": [
        "# Sua análise começa aqui.\n",
        "#Dataframe auxiliar, para ajudar na análise.\n",
        "exploration = pd.DataFrame({'type': countries.dtypes,\n",
        "                            'amount': countries.isna().sum(),\n",
        "                            'percentage': (countries.isna().sum() / countries.shape[0]) * 100,\n",
        "                            'unique values': countries.nunique()})\n",
        "                            \n",
        "\n",
        "exploration\n"
      ],
      "execution_count": 19,
      "outputs": [
        {
          "output_type": "execute_result",
          "data": {
            "text/html": [
              "<div>\n",
              "<style scoped>\n",
              "    .dataframe tbody tr th:only-of-type {\n",
              "        vertical-align: middle;\n",
              "    }\n",
              "\n",
              "    .dataframe tbody tr th {\n",
              "        vertical-align: top;\n",
              "    }\n",
              "\n",
              "    .dataframe thead th {\n",
              "        text-align: right;\n",
              "    }\n",
              "</style>\n",
              "<table border=\"1\" class=\"dataframe\">\n",
              "  <thead>\n",
              "    <tr style=\"text-align: right;\">\n",
              "      <th></th>\n",
              "      <th>type</th>\n",
              "      <th>amount</th>\n",
              "      <th>percentage</th>\n",
              "      <th>unique values</th>\n",
              "    </tr>\n",
              "  </thead>\n",
              "  <tbody>\n",
              "    <tr>\n",
              "      <th>Country</th>\n",
              "      <td>object</td>\n",
              "      <td>0</td>\n",
              "      <td>0.000000</td>\n",
              "      <td>227</td>\n",
              "    </tr>\n",
              "    <tr>\n",
              "      <th>Region</th>\n",
              "      <td>object</td>\n",
              "      <td>0</td>\n",
              "      <td>0.000000</td>\n",
              "      <td>11</td>\n",
              "    </tr>\n",
              "    <tr>\n",
              "      <th>Population</th>\n",
              "      <td>int64</td>\n",
              "      <td>0</td>\n",
              "      <td>0.000000</td>\n",
              "      <td>227</td>\n",
              "    </tr>\n",
              "    <tr>\n",
              "      <th>Area (sq. mi.)</th>\n",
              "      <td>int64</td>\n",
              "      <td>0</td>\n",
              "      <td>0.000000</td>\n",
              "      <td>226</td>\n",
              "    </tr>\n",
              "    <tr>\n",
              "      <th>Pop. Density (per sq. mi.)</th>\n",
              "      <td>object</td>\n",
              "      <td>0</td>\n",
              "      <td>0.000000</td>\n",
              "      <td>219</td>\n",
              "    </tr>\n",
              "    <tr>\n",
              "      <th>Coastline (coast/area ratio)</th>\n",
              "      <td>object</td>\n",
              "      <td>0</td>\n",
              "      <td>0.000000</td>\n",
              "      <td>151</td>\n",
              "    </tr>\n",
              "    <tr>\n",
              "      <th>Net migration</th>\n",
              "      <td>object</td>\n",
              "      <td>3</td>\n",
              "      <td>1.321586</td>\n",
              "      <td>157</td>\n",
              "    </tr>\n",
              "    <tr>\n",
              "      <th>Infant mortality (per 1000 births)</th>\n",
              "      <td>object</td>\n",
              "      <td>3</td>\n",
              "      <td>1.321586</td>\n",
              "      <td>220</td>\n",
              "    </tr>\n",
              "    <tr>\n",
              "      <th>GDP ($ per capita)</th>\n",
              "      <td>float64</td>\n",
              "      <td>1</td>\n",
              "      <td>0.440529</td>\n",
              "      <td>130</td>\n",
              "    </tr>\n",
              "    <tr>\n",
              "      <th>Literacy (%)</th>\n",
              "      <td>object</td>\n",
              "      <td>18</td>\n",
              "      <td>7.929515</td>\n",
              "      <td>140</td>\n",
              "    </tr>\n",
              "    <tr>\n",
              "      <th>Phones (per 1000)</th>\n",
              "      <td>object</td>\n",
              "      <td>4</td>\n",
              "      <td>1.762115</td>\n",
              "      <td>214</td>\n",
              "    </tr>\n",
              "    <tr>\n",
              "      <th>Arable (%)</th>\n",
              "      <td>object</td>\n",
              "      <td>2</td>\n",
              "      <td>0.881057</td>\n",
              "      <td>203</td>\n",
              "    </tr>\n",
              "    <tr>\n",
              "      <th>Crops (%)</th>\n",
              "      <td>object</td>\n",
              "      <td>2</td>\n",
              "      <td>0.881057</td>\n",
              "      <td>162</td>\n",
              "    </tr>\n",
              "    <tr>\n",
              "      <th>Other (%)</th>\n",
              "      <td>object</td>\n",
              "      <td>2</td>\n",
              "      <td>0.881057</td>\n",
              "      <td>209</td>\n",
              "    </tr>\n",
              "    <tr>\n",
              "      <th>Climate</th>\n",
              "      <td>object</td>\n",
              "      <td>22</td>\n",
              "      <td>9.691630</td>\n",
              "      <td>6</td>\n",
              "    </tr>\n",
              "    <tr>\n",
              "      <th>Birthrate</th>\n",
              "      <td>object</td>\n",
              "      <td>3</td>\n",
              "      <td>1.321586</td>\n",
              "      <td>220</td>\n",
              "    </tr>\n",
              "    <tr>\n",
              "      <th>Deathrate</th>\n",
              "      <td>object</td>\n",
              "      <td>4</td>\n",
              "      <td>1.762115</td>\n",
              "      <td>201</td>\n",
              "    </tr>\n",
              "    <tr>\n",
              "      <th>Agriculture</th>\n",
              "      <td>object</td>\n",
              "      <td>15</td>\n",
              "      <td>6.607930</td>\n",
              "      <td>150</td>\n",
              "    </tr>\n",
              "    <tr>\n",
              "      <th>Industry</th>\n",
              "      <td>object</td>\n",
              "      <td>16</td>\n",
              "      <td>7.048458</td>\n",
              "      <td>155</td>\n",
              "    </tr>\n",
              "    <tr>\n",
              "      <th>Service</th>\n",
              "      <td>object</td>\n",
              "      <td>15</td>\n",
              "      <td>6.607930</td>\n",
              "      <td>167</td>\n",
              "    </tr>\n",
              "  </tbody>\n",
              "</table>\n",
              "</div>"
            ],
            "text/plain": [
              "                                       type  amount  percentage  unique values\n",
              "Country                              object       0    0.000000            227\n",
              "Region                               object       0    0.000000             11\n",
              "Population                            int64       0    0.000000            227\n",
              "Area (sq. mi.)                        int64       0    0.000000            226\n",
              "Pop. Density (per sq. mi.)           object       0    0.000000            219\n",
              "Coastline (coast/area ratio)         object       0    0.000000            151\n",
              "Net migration                        object       3    1.321586            157\n",
              "Infant mortality (per 1000 births)   object       3    1.321586            220\n",
              "GDP ($ per capita)                  float64       1    0.440529            130\n",
              "Literacy (%)                         object      18    7.929515            140\n",
              "Phones (per 1000)                    object       4    1.762115            214\n",
              "Arable (%)                           object       2    0.881057            203\n",
              "Crops (%)                            object       2    0.881057            162\n",
              "Other (%)                            object       2    0.881057            209\n",
              "Climate                              object      22    9.691630              6\n",
              "Birthrate                            object       3    1.321586            220\n",
              "Deathrate                            object       4    1.762115            201\n",
              "Agriculture                          object      15    6.607930            150\n",
              "Industry                             object      16    7.048458            155\n",
              "Service                              object      15    6.607930            167"
            ]
          },
          "metadata": {
            "tags": []
          },
          "execution_count": 19
        }
      ]
    },
    {
      "cell_type": "code",
      "metadata": {
        "id": "t32hVsn6RP22",
        "colab_type": "code",
        "colab": {}
      },
      "source": [
        "def data_transformation(df):\n",
        "    \"\"\"Adjusting the data set.\"\"\"\n",
        "\n",
        "    # Alterando o separador decimal e convertendo as variáveis em numéricas:\n",
        "    df.iloc[0:, 4:] = df.iloc[0:, 4:].replace(',', '.', regex=True).astype(float)\n",
        "\n",
        "    # Removendo os espaços em branco no começo e no final da string:\n",
        "    df = df.applymap(lambda x: x.strip() if type(x)==str else x)\n",
        "    return df\n",
        "\n",
        "# Chamando a função:\n",
        "countries = data_transformation(countries)"
      ],
      "execution_count": 0,
      "outputs": []
    },
    {
      "cell_type": "code",
      "metadata": {
        "id": "DXhxAIVBAWrj",
        "colab_type": "code",
        "outputId": "f8266eef-761f-452c-a3ed-b4ea0cf39f24",
        "colab": {
          "base_uri": "https://localhost:8080/",
          "height": 394
        }
      },
      "source": [
        "countries.head()"
      ],
      "execution_count": 28,
      "outputs": [
        {
          "output_type": "execute_result",
          "data": {
            "text/html": [
              "<div>\n",
              "<style scoped>\n",
              "    .dataframe tbody tr th:only-of-type {\n",
              "        vertical-align: middle;\n",
              "    }\n",
              "\n",
              "    .dataframe tbody tr th {\n",
              "        vertical-align: top;\n",
              "    }\n",
              "\n",
              "    .dataframe thead th {\n",
              "        text-align: right;\n",
              "    }\n",
              "</style>\n",
              "<table border=\"1\" class=\"dataframe\">\n",
              "  <thead>\n",
              "    <tr style=\"text-align: right;\">\n",
              "      <th></th>\n",
              "      <th>Country</th>\n",
              "      <th>Region</th>\n",
              "      <th>Population</th>\n",
              "      <th>Area (sq. mi.)</th>\n",
              "      <th>Pop. Density (per sq. mi.)</th>\n",
              "      <th>Coastline (coast/area ratio)</th>\n",
              "      <th>Net migration</th>\n",
              "      <th>Infant mortality (per 1000 births)</th>\n",
              "      <th>GDP ($ per capita)</th>\n",
              "      <th>Literacy (%)</th>\n",
              "      <th>Phones (per 1000)</th>\n",
              "      <th>Arable (%)</th>\n",
              "      <th>Crops (%)</th>\n",
              "      <th>Other (%)</th>\n",
              "      <th>Climate</th>\n",
              "      <th>Birthrate</th>\n",
              "      <th>Deathrate</th>\n",
              "      <th>Agriculture</th>\n",
              "      <th>Industry</th>\n",
              "      <th>Service</th>\n",
              "    </tr>\n",
              "  </thead>\n",
              "  <tbody>\n",
              "    <tr>\n",
              "      <th>0</th>\n",
              "      <td>Afghanistan</td>\n",
              "      <td>ASIA (EX. NEAR EAST)</td>\n",
              "      <td>31056997</td>\n",
              "      <td>647500</td>\n",
              "      <td>48.0</td>\n",
              "      <td>0.00</td>\n",
              "      <td>23.06</td>\n",
              "      <td>163.07</td>\n",
              "      <td>700.0</td>\n",
              "      <td>36.0</td>\n",
              "      <td>3.2</td>\n",
              "      <td>12.13</td>\n",
              "      <td>0.22</td>\n",
              "      <td>87.65</td>\n",
              "      <td>1.0</td>\n",
              "      <td>46.60</td>\n",
              "      <td>20.34</td>\n",
              "      <td>0.380</td>\n",
              "      <td>0.240</td>\n",
              "      <td>0.380</td>\n",
              "    </tr>\n",
              "    <tr>\n",
              "      <th>1</th>\n",
              "      <td>Albania</td>\n",
              "      <td>EASTERN EUROPE</td>\n",
              "      <td>3581655</td>\n",
              "      <td>28748</td>\n",
              "      <td>124.6</td>\n",
              "      <td>1.26</td>\n",
              "      <td>-4.93</td>\n",
              "      <td>21.52</td>\n",
              "      <td>4500.0</td>\n",
              "      <td>86.5</td>\n",
              "      <td>71.2</td>\n",
              "      <td>21.09</td>\n",
              "      <td>4.42</td>\n",
              "      <td>74.49</td>\n",
              "      <td>3.0</td>\n",
              "      <td>15.11</td>\n",
              "      <td>5.22</td>\n",
              "      <td>0.232</td>\n",
              "      <td>0.188</td>\n",
              "      <td>0.579</td>\n",
              "    </tr>\n",
              "    <tr>\n",
              "      <th>2</th>\n",
              "      <td>Algeria</td>\n",
              "      <td>NORTHERN AFRICA</td>\n",
              "      <td>32930091</td>\n",
              "      <td>2381740</td>\n",
              "      <td>13.8</td>\n",
              "      <td>0.04</td>\n",
              "      <td>-0.39</td>\n",
              "      <td>31.00</td>\n",
              "      <td>6000.0</td>\n",
              "      <td>70.0</td>\n",
              "      <td>78.1</td>\n",
              "      <td>3.22</td>\n",
              "      <td>0.25</td>\n",
              "      <td>96.53</td>\n",
              "      <td>1.0</td>\n",
              "      <td>17.14</td>\n",
              "      <td>4.61</td>\n",
              "      <td>0.101</td>\n",
              "      <td>0.600</td>\n",
              "      <td>0.298</td>\n",
              "    </tr>\n",
              "    <tr>\n",
              "      <th>3</th>\n",
              "      <td>American Samoa</td>\n",
              "      <td>OCEANIA</td>\n",
              "      <td>57794</td>\n",
              "      <td>199</td>\n",
              "      <td>290.4</td>\n",
              "      <td>58.29</td>\n",
              "      <td>-20.71</td>\n",
              "      <td>9.27</td>\n",
              "      <td>8000.0</td>\n",
              "      <td>97.0</td>\n",
              "      <td>259.5</td>\n",
              "      <td>10.00</td>\n",
              "      <td>15.00</td>\n",
              "      <td>75.00</td>\n",
              "      <td>2.0</td>\n",
              "      <td>22.46</td>\n",
              "      <td>3.27</td>\n",
              "      <td>NaN</td>\n",
              "      <td>NaN</td>\n",
              "      <td>NaN</td>\n",
              "    </tr>\n",
              "    <tr>\n",
              "      <th>4</th>\n",
              "      <td>Andorra</td>\n",
              "      <td>WESTERN EUROPE</td>\n",
              "      <td>71201</td>\n",
              "      <td>468</td>\n",
              "      <td>152.1</td>\n",
              "      <td>0.00</td>\n",
              "      <td>6.60</td>\n",
              "      <td>4.05</td>\n",
              "      <td>19000.0</td>\n",
              "      <td>100.0</td>\n",
              "      <td>497.2</td>\n",
              "      <td>2.22</td>\n",
              "      <td>0.00</td>\n",
              "      <td>97.78</td>\n",
              "      <td>3.0</td>\n",
              "      <td>8.71</td>\n",
              "      <td>6.25</td>\n",
              "      <td>NaN</td>\n",
              "      <td>NaN</td>\n",
              "      <td>NaN</td>\n",
              "    </tr>\n",
              "  </tbody>\n",
              "</table>\n",
              "</div>"
            ],
            "text/plain": [
              "          Country                Region  ...  Industry  Service\n",
              "0     Afghanistan  ASIA (EX. NEAR EAST)  ...     0.240    0.380\n",
              "1         Albania        EASTERN EUROPE  ...     0.188    0.579\n",
              "2         Algeria       NORTHERN AFRICA  ...     0.600    0.298\n",
              "3  American Samoa               OCEANIA  ...       NaN      NaN\n",
              "4         Andorra        WESTERN EUROPE  ...       NaN      NaN\n",
              "\n",
              "[5 rows x 20 columns]"
            ]
          },
          "metadata": {
            "tags": []
          },
          "execution_count": 28
        }
      ]
    },
    {
      "cell_type": "markdown",
      "metadata": {
        "id": "o4pei6Nqy2Yk",
        "colab_type": "text"
      },
      "source": [
        "## Questão 1\n",
        "\n",
        "Quais são as regiões (variável `Region`) presentes no _data set_? Retorne uma lista com as regiões únicas do _data set_ com os espaços à frente e atrás da string removidos (mas mantenha pontuação: ponto, hífen etc) e ordenadas em ordem alfabética."
      ]
    },
    {
      "cell_type": "code",
      "metadata": {
        "id": "Q61Ir0tBy2Yl",
        "colab_type": "code",
        "outputId": "40276f3a-79f3-4f1c-a921-756ed0815fe7",
        "colab": {
          "base_uri": "https://localhost:8080/",
          "height": 204
        }
      },
      "source": [
        "def q1():\n",
        "     # Obtem os valores únicos das regiões\n",
        "    region = countries['Region'].unique()\n",
        "    # Este comando, retira os espaços à frente e atrás das strings    \n",
        "    region = [country.strip() for country in region]\n",
        "    # Realizando a ordenação da lista\n",
        "    region.sort()\n",
        "    \n",
        "    return region\n",
        "q1()"
      ],
      "execution_count": 21,
      "outputs": [
        {
          "output_type": "execute_result",
          "data": {
            "text/plain": [
              "['ASIA (EX. NEAR EAST)',\n",
              " 'BALTICS',\n",
              " 'C.W. OF IND. STATES',\n",
              " 'EASTERN EUROPE',\n",
              " 'LATIN AMER. & CARIB',\n",
              " 'NEAR EAST',\n",
              " 'NORTHERN AFRICA',\n",
              " 'NORTHERN AMERICA',\n",
              " 'OCEANIA',\n",
              " 'SUB-SAHARAN AFRICA',\n",
              " 'WESTERN EUROPE']"
            ]
          },
          "metadata": {
            "tags": []
          },
          "execution_count": 21
        }
      ]
    },
    {
      "cell_type": "markdown",
      "metadata": {
        "id": "2xMKV8ysy2Ys",
        "colab_type": "text"
      },
      "source": [
        "## Questão 2\n",
        "\n",
        "Discretizando a variável `Pop_density` em 10 intervalos com `KBinsDiscretizer`, seguindo o encode `ordinal` e estratégia `quantile`, quantos países se encontram acima do 90º percentil? Responda como um único escalar inteiro."
      ]
    },
    {
      "cell_type": "code",
      "metadata": {
        "id": "teBot8gwO6mc",
        "colab_type": "code",
        "colab": {}
      },
      "source": [
        "#Importando o pacote\n",
        "from sklearn.preprocessing import KBinsDiscretizer"
      ],
      "execution_count": 0,
      "outputs": []
    },
    {
      "cell_type": "code",
      "metadata": {
        "id": "f15-3mjsy2Yt",
        "colab_type": "code",
        "outputId": "c8380c00-1f80-46c8-8ae2-aae909be11db",
        "colab": {
          "base_uri": "https://localhost:8080/",
          "height": 34
        }
      },
      "source": [
        "def q2():\n",
        "    kbins = KBinsDiscretizer(n_bins=10, encode='ordinal', strategy='quantile')\n",
        "    pop_density_discrete = kbins.fit_transform(countries['Pop_density'].values.reshape(-1, 1))\n",
        "    # o índice 9 é o nosso último, pois estamos dividindo em 10 e queremos o último percentil\n",
        "    return int((pop_density_discrete==9).sum())\n",
        "\n",
        "q2()"
      ],
      "execution_count": 32,
      "outputs": [
        {
          "output_type": "execute_result",
          "data": {
            "text/plain": [
              "23"
            ]
          },
          "metadata": {
            "tags": []
          },
          "execution_count": 32
        }
      ]
    },
    {
      "cell_type": "markdown",
      "metadata": {
        "id": "vkYlu0lhy2Yw",
        "colab_type": "text"
      },
      "source": [
        "# Questão 3\n",
        "\n",
        "Se codificarmos as variáveis `Region` e `Climate` usando _one-hot encoding_, quantos novos atributos seriam criados? Responda como um único escalar."
      ]
    },
    {
      "cell_type": "code",
      "metadata": {
        "id": "wMDB0nfRy2Yx",
        "colab_type": "code",
        "outputId": "56bf3641-2bd8-4a07-9fe3-bfaaaa8cf2a0",
        "colab": {
          "base_uri": "https://localhost:8080/",
          "height": 34
        }
      },
      "source": [
        "def q3():\n",
        "    #One Hot enconding para np.int\n",
        "    # One hot encoding é uma representação de variáveis categóricas como vetores binários\n",
        "    one_hot_encoder = OneHotEncoder(sparse=False)\n",
        "    \n",
        "    #Realizando a codificação das variáveis\n",
        "    region_climate_encoded = one_hot_encoder.fit(countries[['Region', 'Climate']].fillna('0').astype('str'))\n",
        "    \n",
        "    #Selecionando as novas features geradas\n",
        "    new_attributes = region_climate_encoded.get_feature_names()\n",
        "    \n",
        "    return len(new_attributes)\n",
        "q3()"
      ],
      "execution_count": 0,
      "outputs": [
        {
          "output_type": "execute_result",
          "data": {
            "text/plain": [
              "18"
            ]
          },
          "metadata": {
            "tags": []
          },
          "execution_count": 16
        }
      ]
    },
    {
      "cell_type": "markdown",
      "metadata": {
        "id": "gIBVgPZly2Y0",
        "colab_type": "text"
      },
      "source": [
        "## Questão 4\n",
        "\n",
        "Aplique o seguinte _pipeline_:\n",
        "\n",
        "1. Preencha as variáveis do tipo `int64` e `float64` com suas respectivas medianas.\n",
        "2. Padronize essas variáveis.\n",
        "\n",
        "Após aplicado o _pipeline_ descrito acima aos dados (somente nas variáveis dos tipos especificados), aplique o mesmo _pipeline_ (ou `ColumnTransformer`) ao dado abaixo. Qual o valor da variável `Arable` após o _pipeline_? Responda como um único float arredondado para três casas decimais."
      ]
    },
    {
      "cell_type": "code",
      "metadata": {
        "id": "_PtfE4ujy2Y1",
        "colab_type": "code",
        "outputId": "76c9c8db-11c3-443c-a231-29dfcdec6313",
        "colab": {
          "base_uri": "https://localhost:8080/",
          "height": 102
        }
      },
      "source": [
        "test_country = [\n",
        "    'Test Country', 'NEAR EAST', -0.19032480757326514,\n",
        "    -0.3232636124824411, -0.04421734470810142, -0.27528113360605316,\n",
        "    0.13255850810281325, -0.8054845935643491, 1.0119784924248225,\n",
        "    0.6189182532646624, 1.0074863283776458, 0.20239896852403538,\n",
        "    -0.043678728558593366, -0.13929748680369286, 1.3163604645710438,\n",
        "    -0.3699637766938669, -0.6149300604558857, -0.854369594993175,\n",
        "    0.263445277972641, 0.5712416961268142\n",
        "]\n",
        "# Transformando test_country em DataFrame\n",
        "df_test_country = pd.DataFrame(test_country)\n",
        "# Transpondo o DataFrame para que cada valor corresponda a uma coluna \n",
        "df_test_country = df_test_country.T\n",
        "# Renomeando as colunas\n",
        "df_test_country.columns = new_column_names\n",
        "\n",
        "df_test_country\n",
        "df_test_country.columns"
      ],
      "execution_count": 0,
      "outputs": [
        {
          "output_type": "execute_result",
          "data": {
            "text/plain": [
              "Index(['Country', 'Region', 'Population', 'Area', 'Pop_density',\n",
              "       'Coastline_ratio', 'Net_migration', 'Infant_mortality', 'GDP',\n",
              "       'Literacy', 'Phones_per_1000', 'Arable', 'Crops', 'Other', 'Climate',\n",
              "       'Birthrate', 'Deathrate', 'Agriculture', 'Industry', 'Service'],\n",
              "      dtype='object')"
            ]
          },
          "metadata": {
            "tags": []
          },
          "execution_count": 17
        }
      ]
    },
    {
      "cell_type": "code",
      "metadata": {
        "id": "sCVB40nnGfOf",
        "colab_type": "code",
        "outputId": "6178ebd0-e29f-4222-f6fd-30afd6719ccf",
        "colab": {
          "base_uri": "https://localhost:8080/",
          "height": 34
        }
      },
      "source": [
        "# Selecionar as colunas numéricas \n",
        "col_to_pipeline = []\n",
        "for col in countries.columns:\n",
        "     if countries[col].dtype == 'int64' or countries[col].dtype == 'float64':\n",
        "            col_to_pipeline.append(col)\n",
        "len(col_to_pipeline)"
      ],
      "execution_count": 0,
      "outputs": [
        {
          "output_type": "execute_result",
          "data": {
            "text/plain": [
              "18"
            ]
          },
          "metadata": {
            "tags": []
          },
          "execution_count": 18
        }
      ]
    },
    {
      "cell_type": "code",
      "metadata": {
        "id": "-DZBxuBJy2Y4",
        "colab_type": "code",
        "outputId": "91ea3fe7-e189-49b6-8da3-268a83bc9f55",
        "colab": {
          "base_uri": "https://localhost:8080/",
          "height": 34
        }
      },
      "source": [
        "def q4():\n",
        "    # Criando Pipeline\n",
        "    num_pipeline = Pipeline(steps=[\n",
        "                                ('imputer', SimpleImputer(strategy='median')),\n",
        "                                (\"standard_scaler\", StandardScaler()),\n",
        "                                  ])\n",
        "    # Treinando o Pipeline com os steps passados\n",
        "    num_pipeline.fit(countries[col_to_pipeline])\n",
        "    # Aplicando modelo de pipeline no dataFrame test_country\n",
        "    test_country_transformed = num_pipeline.transform(df_test_country[col_to_pipeline])\n",
        "    # Transformando em dataFrame\n",
        "    test_country_transformed = pd.DataFrame(test_country_transformed, columns=col_to_pipeline)\n",
        "    return list(round(test_country_transformed['Arable'],3))[0]\n",
        "\n",
        "q4()"
      ],
      "execution_count": 0,
      "outputs": [
        {
          "output_type": "execute_result",
          "data": {
            "text/plain": [
              "-1.047"
            ]
          },
          "metadata": {
            "tags": []
          },
          "execution_count": 19
        }
      ]
    },
    {
      "cell_type": "markdown",
      "metadata": {
        "id": "la1AMtufy2ZA",
        "colab_type": "text"
      },
      "source": [
        "## Questão 5\n",
        "\n",
        "Descubra o número de _outliers_ da variável `Net_migration` segundo o método do _boxplot_, ou seja, usando a lógica:\n",
        "\n",
        "$$x \\notin [Q1 - 1.5 \\times \\text{IQR}, Q3 + 1.5 \\times \\text{IQR}] \\Rightarrow x \\text{ é outlier}$$\n",
        "\n",
        "que se encontram no grupo inferior e no grupo superior.\n",
        "\n",
        "Você deveria remover da análise as observações consideradas _outliers_ segundo esse método? Responda como uma tupla de três elementos `(outliers_abaixo, outliers_acima, removeria?)` ((int, int, bool))."
      ]
    },
    {
      "cell_type": "code",
      "metadata": {
        "id": "TwwZhdKAH1Nw",
        "colab_type": "code",
        "outputId": "112a3319-7db6-49a0-92e4-2da68a70c421",
        "colab": {
          "base_uri": "https://localhost:8080/",
          "height": 483
        }
      },
      "source": [
        "#sns.boxplot(countries['Net_migration'], orient='vertical')"
      ],
      "execution_count": 0,
      "outputs": [
        {
          "output_type": "execute_result",
          "data": {
            "text/plain": [
              "<matplotlib.axes._subplots.AxesSubplot at 0x7f8f0c0fde10>"
            ]
          },
          "metadata": {
            "tags": []
          },
          "execution_count": 20
        },
        {
          "output_type": "display_data",
          "data": {
            "image/png": "[encoded data removed]",
            "text/plain": [
              "<Figure size 864x576 with 1 Axes>"
            ]
          },
          "metadata": {
            "tags": []
          }
        }
      ]
    },
    {
      "cell_type": "code",
      "metadata": {
        "id": "WgnCQlC9IUXe",
        "colab_type": "code",
        "outputId": "4daeb021-b25a-4293-fd37-0d92257936db",
        "colab": {
          "base_uri": "https://localhost:8080/",
          "height": 502
        }
      },
      "source": [
        "#sns.distplot(countries['Net_migration']);"
      ],
      "execution_count": 0,
      "outputs": [
        {
          "output_type": "display_data",
          "data": {
            "image/png": "[encoded data removed]",
            "text/plain": [
              "<Figure size 864x576 with 1 Axes>"
            ]
          },
          "metadata": {
            "tags": []
          }
        }
      ]
    },
    {
      "cell_type": "code",
      "metadata": {
        "id": "d9UO5PpUIoTS",
        "colab_type": "code",
        "colab": {}
      },
      "source": [
        "#Definindo o primeiro quartil 0.25\n",
        "qt1 = countries['Net_migration'].quantile(0.25)\n",
        "\n",
        "#Definindo o terceiro quartil 0.75\n",
        "qt3 = countries['Net_migration'].quantile(0.75)\n",
        "\n",
        "#Determinando a Amplitude Interquartil\n",
        "IQR = qt3 - qt1"
      ],
      "execution_count": 0,
      "outputs": []
    },
    {
      "cell_type": "code",
      "metadata": {
        "id": "JfQW9I3vJE6K",
        "colab_type": "code",
        "colab": {}
      },
      "source": [
        "#Ourliers Superiores\n",
        "higher_outliers_point = qt3 + 1.5*IQR\n",
        "\n",
        "#Ourliers Inferiores\n",
        "lower_outliers_point = qt1 - 1.5*IQR"
      ],
      "execution_count": 0,
      "outputs": []
    },
    {
      "cell_type": "code",
      "metadata": {
        "id": "-2oG-AfDI0tH",
        "colab_type": "code",
        "outputId": "bd074068-7a5f-4b9e-f79a-a3662acee6a9",
        "colab": {
          "base_uri": "https://localhost:8080/",
          "height": 476
        }
      },
      "source": [
        "higher_outliers = countries[countries['Net_migration'] > higher_outliers_point]['Net_migration']\n",
        "higher_outliers"
      ],
      "execution_count": 0,
      "outputs": [
        {
          "output_type": "execute_result",
          "data": {
            "text/plain": [
              "0      23.06\n",
              "4       6.60\n",
              "6      10.76\n",
              "11      3.98\n",
              "28     10.01\n",
              "36      5.96\n",
              "38     18.75\n",
              "70      6.27\n",
              "91      5.24\n",
              "98      4.99\n",
              "99      5.36\n",
              "105     6.59\n",
              "111    14.18\n",
              "119     4.85\n",
              "121     8.97\n",
              "122     4.86\n",
              "134     6.78\n",
              "138     7.75\n",
              "149     4.05\n",
              "153     9.61\n",
              "166    16.29\n",
              "177    10.98\n",
              "184    11.53\n",
              "188     5.37\n",
              "196     4.05\n",
              "208    11.68\n",
              "Name: Net_migration, dtype: float64"
            ]
          },
          "metadata": {
            "tags": []
          },
          "execution_count": 25
        }
      ]
    },
    {
      "cell_type": "code",
      "metadata": {
        "id": "UR92m61QJQqC",
        "colab_type": "code",
        "outputId": "e513d8d5-3b0b-4b13-a686-d01ea3728958",
        "colab": {
          "base_uri": "https://localhost:8080/",
          "height": 442
        }
      },
      "source": [
        "#Registros abaixo do ponto lower_outlieres_point\n",
        "\n",
        "lower_outliers = countries[countries['Net_migration'] < lower_outliers_point]['Net_migration']\n",
        "lower_outliers"
      ],
      "execution_count": 0,
      "outputs": [
        {
          "output_type": "execute_result",
          "data": {
            "text/plain": [
              "1      -4.93\n",
              "3     -20.71\n",
              "7      -6.15\n",
              "9      -6.47\n",
              "13     -4.90\n",
              "30     -4.58\n",
              "37    -12.07\n",
              "56    -13.87\n",
              "59     -8.58\n",
              "75     -4.70\n",
              "80     -8.37\n",
              "81    -13.92\n",
              "102    -4.92\n",
              "130    -6.04\n",
              "135    -4.87\n",
              "136   -20.99\n",
              "172    -7.11\n",
              "174    -4.86\n",
              "175    -7.64\n",
              "176   -11.70\n",
              "182    -5.69\n",
              "193    -8.81\n",
              "204   -10.83\n",
              "220    -8.94\n",
              "Name: Net_migration, dtype: float64"
            ]
          },
          "metadata": {
            "tags": []
          },
          "execution_count": 26
        }
      ]
    },
    {
      "cell_type": "code",
      "metadata": {
        "id": "CvsfHU0yJU5m",
        "colab_type": "code",
        "outputId": "ba2e7033-a16c-4d6a-e6e3-6d8f10f6cd68",
        "colab": {
          "base_uri": "https://localhost:8080/",
          "height": 476
        }
      },
      "source": [
        "#Registros abaixo do ponto lower_outlieres_point\n",
        "\n",
        "higher_outliers = countries[countries['Net_migration'] > higher_outliers_point]['Net_migration']\n",
        "higher_outliers"
      ],
      "execution_count": 0,
      "outputs": [
        {
          "output_type": "execute_result",
          "data": {
            "text/plain": [
              "0      23.06\n",
              "4       6.60\n",
              "6      10.76\n",
              "11      3.98\n",
              "28     10.01\n",
              "36      5.96\n",
              "38     18.75\n",
              "70      6.27\n",
              "91      5.24\n",
              "98      4.99\n",
              "99      5.36\n",
              "105     6.59\n",
              "111    14.18\n",
              "119     4.85\n",
              "121     8.97\n",
              "122     4.86\n",
              "134     6.78\n",
              "138     7.75\n",
              "149     4.05\n",
              "153     9.61\n",
              "166    16.29\n",
              "177    10.98\n",
              "184    11.53\n",
              "188     5.37\n",
              "196     4.05\n",
              "208    11.68\n",
              "Name: Net_migration, dtype: float64"
            ]
          },
          "metadata": {
            "tags": []
          },
          "execution_count": 27
        }
      ]
    },
    {
      "cell_type": "code",
      "metadata": {
        "id": "4S37QRl-JdpK",
        "colab_type": "code",
        "outputId": "ce0d824b-b2c7-4589-a28a-35187ae600d5",
        "colab": {
          "base_uri": "https://localhost:8080/",
          "height": 34
        }
      },
      "source": [
        "countries.shape"
      ],
      "execution_count": 0,
      "outputs": [
        {
          "output_type": "execute_result",
          "data": {
            "text/plain": [
              "(227, 20)"
            ]
          },
          "metadata": {
            "tags": []
          },
          "execution_count": 28
        }
      ]
    },
    {
      "cell_type": "code",
      "metadata": {
        "id": "DdHhheh2JhX2",
        "colab_type": "code",
        "outputId": "2a2c993c-cddb-48b7-c6f0-181b354a9c2b",
        "colab": {
          "base_uri": "https://localhost:8080/",
          "height": 34
        }
      },
      "source": [
        "total_outliers = len(higher_outliers) + len(lower_outliers)\n",
        "total_outliers"
      ],
      "execution_count": 0,
      "outputs": [
        {
          "output_type": "execute_result",
          "data": {
            "text/plain": [
              "50"
            ]
          },
          "metadata": {
            "tags": []
          },
          "execution_count": 29
        }
      ]
    },
    {
      "cell_type": "code",
      "metadata": {
        "id": "KT1n3tKey2ZB",
        "colab_type": "code",
        "outputId": "e44403b5-e1ec-4082-b1cb-5c8b6ebbc04e",
        "colab": {
          "base_uri": "https://localhost:8080/",
          "height": 34
        }
      },
      "source": [
        "def q5():\n",
        "    return(len(lower_outliers), len(higher_outliers),False)\n",
        "q5()"
      ],
      "execution_count": 0,
      "outputs": [
        {
          "output_type": "execute_result",
          "data": {
            "text/plain": [
              "(24, 26, False)"
            ]
          },
          "metadata": {
            "tags": []
          },
          "execution_count": 30
        }
      ]
    },
    {
      "cell_type": "markdown",
      "metadata": {
        "id": "0WTcyhTUy2ZE",
        "colab_type": "text"
      },
      "source": [
        "## Questão 6\n",
        "Para as questões 6 e 7 utilize a biblioteca `fetch_20newsgroups` de datasets de test do `sklearn`\n",
        "\n",
        "Considere carregar as seguintes categorias e o dataset `newsgroups`:\n",
        "\n",
        "```\n",
        "categories = ['sci.electronics', 'comp.graphics', 'rec.motorcycles']\n",
        "newsgroup = fetch_20newsgroups(subset=\"train\", categories=categories, shuffle=True, random_state=42)\n",
        "```\n",
        "\n",
        "\n",
        "Aplique `CountVectorizer` ao _data set_ `newsgroups` e descubra o número de vezes que a palavra _phone_ aparece no corpus. Responda como um único escalar."
      ]
    },
    {
      "cell_type": "code",
      "metadata": {
        "id": "Q9YfLlPDKklc",
        "colab_type": "code",
        "outputId": "34bde51d-b934-4275-fc3d-f7e0920bd676",
        "colab": {
          "base_uri": "https://localhost:8080/",
          "height": 51
        }
      },
      "source": [
        "categories = ['sci.electronics', 'comp.graphics', 'rec.motorcycles']\n",
        "newsgroups = fetch_20newsgroups(subset=\"train\", categories=categories, shuffle=True, random_state=42)"
      ],
      "execution_count": 0,
      "outputs": [
        {
          "output_type": "stream",
          "text": [
            "Downloading 20news dataset. This may take a few minutes.\n",
            "Downloading dataset from https://ndownloader.figshare.com/files/5975967 (14 MB)\n"
          ],
          "name": "stderr"
        }
      ]
    },
    {
      "cell_type": "code",
      "metadata": {
        "id": "7XyOSSIsy2ZF",
        "colab_type": "code",
        "outputId": "e6b6b669-a0f8-4480-876b-37abf7af1a20",
        "colab": {
          "base_uri": "https://localhost:8080/",
          "height": 34
        }
      },
      "source": [
        "def q6():\n",
        "    #Arrumando a matriz dos grupos selecionados para contagem\n",
        "    count_vectorizer = CountVectorizer()\n",
        "    newsgroups_counts = count_vectorizer.fit_transform(newsgroups.data)\n",
        "    \n",
        "    #Retornando: quantidade de vezes que palavra phone aparece\n",
        "    return int(newsgroups_counts[:, count_vectorizer.vocabulary_['phone']].sum())\n",
        "q6()"
      ],
      "execution_count": 0,
      "outputs": [
        {
          "output_type": "execute_result",
          "data": {
            "text/plain": [
              "213"
            ]
          },
          "metadata": {
            "tags": []
          },
          "execution_count": 33
        }
      ]
    },
    {
      "cell_type": "markdown",
      "metadata": {
        "id": "VvAGABgZy2ZI",
        "colab_type": "text"
      },
      "source": [
        "## Questão 7\n",
        "\n",
        "Aplique `TfidfVectorizer` ao _data set_ `newsgroups` e descubra o TF-IDF da palavra _phone_. Responda como um único escalar arredondado para três casas decimais."
      ]
    },
    {
      "cell_type": "code",
      "metadata": {
        "id": "H0CTwXmyy2ZI",
        "colab_type": "code",
        "outputId": "021edb0f-ec12-4bb7-fc3c-2f88a70c7d0c",
        "colab": {
          "base_uri": "https://localhost:8080/",
          "height": 34
        }
      },
      "source": [
        "def q7():\n",
        "    #Configurando a matriz tf-idf dos grupos selecionados\n",
        "    tfidf_vectorizer = TfidfVectorizer()\n",
        "    newsgroups_tfidf_vectorized = tfidf_vectorizer.fit_transform(newsgroups.data)\n",
        "    \n",
        "    #Retornando tf-idf da palavra 'phone': \n",
        "    return float(round(newsgroups_tfidf_vectorized[:, tfidf_vectorizer.vocabulary_['phone']].sum(), 3))\n",
        "q7()"
      ],
      "execution_count": 0,
      "outputs": [
        {
          "output_type": "execute_result",
          "data": {
            "text/plain": [
              "8.888"
            ]
          },
          "metadata": {
            "tags": []
          },
          "execution_count": 38
        }
      ]
    }
  ]
}